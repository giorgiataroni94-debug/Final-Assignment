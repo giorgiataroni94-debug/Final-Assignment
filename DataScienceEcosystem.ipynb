{
 "cells": [
  {
   "cell_type": "markdown",
   "id": "7c570636-4151-4dc2-98da-6dc94c4c6cca",
   "metadata": {},
   "source": [
    "# Data Science Tools and Ecosystem"
   ]
  },
  {
   "cell_type": "markdown",
   "id": "948e3c67-8f12-4a0f-8eb1-b7fa3742e1a6",
   "metadata": {},
   "source": [
    "## **Obiettivi**:\n",
    "- Indicare alcuni linguaggi popolari utilizzati dai Data Scientist;\n",
    "- Indicare alcune delle librerie comunemente utilizzate;\n",
    "- Indicare alcuni degli strumenti da utilizzare;\n"
   ]
  },
  {
   "cell_type": "markdown",
   "id": "1670f3f1-0cd3-456c-bf35-4067e880754e",
   "metadata": {},
   "source": [
    "## In questo notebook, vengono riassunti gli strumenti e l'ecosistema della Data Science."
   ]
  },
  {
   "cell_type": "markdown",
   "id": "5c36dece-da70-4d25-ae4c-a5e08ef5da55",
   "metadata": {},
   "source": [
    "### Alcuni dei linguaggi popolari che i Data Scientist usano sono:\n",
    "1. Python\n",
    "2. R\n",
    "3. Julia"
   ]
  },
  {
   "cell_type": "markdown",
   "id": "b0833831-e9c7-4b8d-95bc-9c7b0174c53e",
   "metadata": {},
   "source": [
    "### Alcune delle librerie comunemente usate dai Data Scientist includono:\n",
    "1. Pandas\n",
    "2. NumPy\n",
    "3. Matplotlib"
   ]
  },
  {
   "cell_type": "markdown",
   "id": "b91e28f1-6dab-4095-b842-670936aca61f",
   "metadata": {},
   "source": [
    "### Tabella degli strumenti di Data Science\n",
    "\n",
    "|Data Science Tools|\n",
    "|------------------|\n",
    "|Jupyter IDE|\n",
    "|R Studio|\n",
    "|Spyder|\n",
    "\n"
   ]
  },
  {
   "cell_type": "markdown",
   "id": "22e38ada-ef86-4e44-b804-ab646670f516",
   "metadata": {},
   "source": [
    "### Di seguito sono riportati alcuni esempi di valutazione delle espressioni aritmetiche in Python:"
   ]
  },
  {
   "cell_type": "code",
   "execution_count": 5,
   "id": "d442b9f9-c9dc-412f-ac22-5c35257424a2",
   "metadata": {},
   "outputs": [
    {
     "data": {
      "text/plain": [
       "17"
      ]
     },
     "execution_count": 5,
     "metadata": {},
     "output_type": "execute_result"
    }
   ],
   "source": [
    "# Questa è una semplice espressione aritmetica per moltiplicare e poi sommare interi\n",
    "(3*4)+5"
   ]
  },
  {
   "cell_type": "code",
   "execution_count": 6,
   "id": "d0090157-b287-4a11-b019-ba5f0a2ee3b6",
   "metadata": {},
   "outputs": [],
   "source": [
    "# Questo convertirà 200 minuti in ore dividendo per 60"
   ]
  },
  {
   "cell_type": "code",
   "execution_count": 8,
   "id": "719fca5a-c99b-4157-81d9-62d100b6924a",
   "metadata": {},
   "outputs": [
    {
     "data": {
      "text/plain": [
       "3.3333333333333335"
      ]
     },
     "execution_count": 8,
     "metadata": {},
     "output_type": "execute_result"
    }
   ],
   "source": [
    "200/60"
   ]
  },
  {
   "cell_type": "markdown",
   "id": "1615b658-aa7f-43ca-b41f-c3131c363e3a",
   "metadata": {},
   "source": [
    "## Autore\n",
    "Giorgia Taroni"
   ]
  },
  {
   "cell_type": "code",
   "execution_count": null,
   "id": "65bcf8c0-a990-4341-a933-36311dd76c50",
   "metadata": {},
   "outputs": [],
   "source": []
  }
 ],
 "metadata": {
  "kernelspec": {
   "display_name": "Python [conda env:base] *",
   "language": "python",
   "name": "conda-base-py"
  },
  "language_info": {
   "codemirror_mode": {
    "name": "ipython",
    "version": 3
   },
   "file_extension": ".py",
   "mimetype": "text/x-python",
   "name": "python",
   "nbconvert_exporter": "python",
   "pygments_lexer": "ipython3",
   "version": "3.13.5"
  }
 },
 "nbformat": 4,
 "nbformat_minor": 5
}
